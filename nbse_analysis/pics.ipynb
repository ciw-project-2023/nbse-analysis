{
 "cells": [
  {
   "cell_type": "code",
   "execution_count": 101,
   "id": "initial_id",
   "metadata": {
    "collapsed": true,
    "ExecuteTime": {
     "end_time": "2024-01-27T11:26:11.689430276Z",
     "start_time": "2024-01-27T11:26:11.657358858Z"
    }
   },
   "outputs": [],
   "source": [
    "from benchmark_nbse import  get_nbse_mols, get_nbse_smiles\n",
    "from rdkit.Chem import rdFMCS \n",
    "from rdkit.Chem import AllChem as Chem\n",
    "from rdkit.Chem.Draw import rdMolDraw2D\n",
    "import os\n",
    "\n",
    "nbse_dir = '../nbse'"
   ]
  },
  {
   "cell_type": "code",
   "execution_count": 102,
   "outputs": [],
   "source": [
    "directory = os.path.join(nbse_dir, '1d0s', 'ligands')\n",
    "\n",
    "smiles = get_nbse_smiles(directory)"
   ],
   "metadata": {
    "collapsed": false,
    "ExecuteTime": {
     "end_time": "2024-01-27T11:26:11.689614249Z",
     "start_time": "2024-01-27T11:26:11.678305955Z"
    }
   },
   "id": "515669c4ad1f53b0"
  },
  {
   "cell_type": "code",
   "execution_count": 103,
   "outputs": [],
   "source": [
    "def draw_match(mol, query):\n",
    "    hit_ats = list(mol.GetSubstructMatch(query))\n",
    "    print(hit_ats)\n",
    "    hit_bonds = []\n",
    "    for bond in query.GetBonds():\n",
    "        aid1 = hit_ats[bond.GetBeginAtomIdx()]\n",
    "        aid2 = hit_ats[bond.GetEndAtomIdx()]\n",
    "        hit_bonds.append(mol.GetBondBetweenAtoms(aid1,aid2).GetIdx())\n",
    "\n",
    "    d = rdMolDraw2D.MolDraw2DSVG(1000, 1000) # or MolDraw2DCairo to get PNGs\n",
    "    rdMolDraw2D.PrepareAndDrawMolecule(d, mol, highlightBonds=hit_bonds, highlightAtoms=hit_ats)\n",
    "    display(mol)"
   ],
   "metadata": {
    "collapsed": false,
    "ExecuteTime": {
     "end_time": "2024-01-27T11:26:11.689660173Z",
     "start_time": "2024-01-27T11:26:11.678386491Z"
    }
   },
   "id": "d82b0a59f3983812"
  },
  {
   "cell_type": "code",
   "execution_count": 104,
   "outputs": [],
   "source": [
    "mols = [Chem.MolFromSmiles(s) for (s, _) in smiles]"
   ],
   "metadata": {
    "collapsed": false,
    "ExecuteTime": {
     "end_time": "2024-01-27T11:26:11.689683395Z",
     "start_time": "2024-01-27T11:26:11.678409404Z"
    }
   },
   "id": "8a57e16e564e625d"
  },
  {
   "cell_type": "code",
   "execution_count": 110,
   "outputs": [],
   "source": [
    "mcs: rdFMCS.MCSResult = rdFMCS.FindMCS(mols)"
   ],
   "metadata": {
    "collapsed": false,
    "ExecuteTime": {
     "end_time": "2024-01-27T11:26:30.916453094Z",
     "start_time": "2024-01-27T11:26:30.874416624Z"
    }
   },
   "id": "afb6453cdd31e910"
  },
  {
   "cell_type": "code",
   "execution_count": 106,
   "outputs": [],
   "source": [
    "first: Chem.Mol = mols[0]"
   ],
   "metadata": {
    "collapsed": false,
    "ExecuteTime": {
     "end_time": "2024-01-27T11:26:11.689731890Z",
     "start_time": "2024-01-27T11:26:11.678445677Z"
    }
   },
   "id": "ce33e7e730f289c4"
  },
  {
   "cell_type": "code",
   "execution_count": 107,
   "outputs": [],
   "source": [
    "second: Chem.Mol = mols[1]"
   ],
   "metadata": {
    "collapsed": false,
    "ExecuteTime": {
     "end_time": "2024-01-27T11:26:11.689880714Z",
     "start_time": "2024-01-27T11:26:11.678472904Z"
    }
   },
   "id": "77e8cf72cb1f934"
  },
  {
   "cell_type": "code",
   "execution_count": 107,
   "outputs": [],
   "source": [],
   "metadata": {
    "collapsed": false,
    "ExecuteTime": {
     "end_time": "2024-01-27T11:26:11.689905715Z",
     "start_time": "2024-01-27T11:26:11.686303428Z"
    }
   },
   "id": "9d4e783546723538"
  },
  {
   "cell_type": "code",
   "execution_count": 108,
   "outputs": [
    {
     "name": "stdout",
     "output_type": "stream",
     "text": [
      "[2, 1, 4, 17, 5, 18]\n"
     ]
    },
    {
     "data": {
      "text/plain": "<rdkit.Chem.rdchem.Mol at 0x7fc749332ce0>",
      "image/png": "[encoded data removed]"
     },
     "metadata": {},
     "output_type": "display_data"
    }
   ],
   "source": [
    "draw_match(first, mcs.queryMol)"
   ],
   "metadata": {
    "collapsed": false,
    "ExecuteTime": {
     "end_time": "2024-01-27T11:26:11.706386240Z",
     "start_time": "2024-01-27T11:26:11.686349156Z"
    }
   },
   "id": "86c77641e25c32bd"
  },
  {
   "cell_type": "code",
   "execution_count": 109,
   "outputs": [
    {
     "name": "stdout",
     "output_type": "stream",
     "text": [
      "[0, 1, 8, 3, 9, 4]\n"
     ]
    },
    {
     "data": {
      "text/plain": "<rdkit.Chem.rdchem.Mol at 0x7fc749268b30>",
      "image/png": "[encoded data removed]"
     },
     "metadata": {},
     "output_type": "display_data"
    }
   ],
   "source": [
    "draw_match(second, mcs.queryMol)"
   ],
   "metadata": {
    "collapsed": false,
    "ExecuteTime": {
     "end_time": "2024-01-27T11:26:11.735547062Z",
     "start_time": "2024-01-27T11:26:11.691380037Z"
    }
   },
   "id": "b90af8342ed0340c"
  },
  {
   "cell_type": "markdown",
   "source": [],
   "metadata": {
    "collapsed": false
   },
   "id": "7d27c71a556ccc60"
  },
  {
   "cell_type": "code",
   "execution_count": 109,
   "outputs": [],
   "source": [],
   "metadata": {
    "collapsed": false,
    "ExecuteTime": {
     "end_time": "2024-01-27T11:26:11.735655385Z",
     "start_time": "2024-01-27T11:26:11.732399722Z"
    }
   },
   "id": "a741fc77dc221f63"
  },
  {
   "cell_type": "code",
   "execution_count": 113,
   "outputs": [],
   "source": [
    "\n",
    "from rdkit.Chem.Draw import rdDepictor\n",
    "def moltosvg(mol, molSize = (300,300), kekulize = True):\n",
    "    mc = Chem.Mol(mol.ToBinary())\n",
    "    if kekulize:\n",
    "        try:\n",
    "            Chem.Kekulize(mc)\n",
    "        except:\n",
    "            mc = Chem.Mol(mol.ToBinary())\n",
    "    if not mc.GetNumConformers():\n",
    "        rdDepictor.Compute2DCoords(mc)\n",
    "    drawer = rdMolDraw2D.MolDraw2DSVG(molSize[0],molSize[1])\n",
    "    drawer.DrawMolecule(mc)\n",
    "    drawer.FinishDrawing()\n",
    "    svg = drawer.GetDrawingText()\n",
    "    return svg.replace('svg:','')\n",
    "\n"
   ],
   "metadata": {
    "collapsed": false,
    "ExecuteTime": {
     "end_time": "2024-01-27T19:30:11.536533116Z",
     "start_time": "2024-01-27T19:30:11.533936436Z"
    }
   },
   "id": "68d1e489a01c8c4d"
  },
  {
   "cell_type": "code",
   "execution_count": 117,
   "outputs": [],
   "source": [
    "from IPython.display import SVG\n",
    "import pyperclip\n",
    "    pyperclip.copy(moltosvg(mols[0]X"
   ],
   "metadata": {
    "collapsed": false,
    "ExecuteTime": {
     "end_time": "2024-01-27T19:32:42.742301845Z",
     "start_time": "2024-01-27T19:32:42.701035850Z"
    }
   },
   "id": "b7fcfde70116f72e"
  }
 ],
 "metadata": {
  "kernelspec": {
   "display_name": "Python 3",
   "language": "python",
   "name": "python3"
  },
  "language_info": {
   "codemirror_mode": {
    "name": "ipython",
    "version": 2
   },
   "file_extension": ".py",
   "mimetype": "text/x-python",
   "name": "python",
   "nbconvert_exporter": "python",
   "pygments_lexer": "ipython2",
   "version": "2.7.6"
  }
 },
 "nbformat": 4,
 "nbformat_minor": 5
}
